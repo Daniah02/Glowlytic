{
 "cells": [
  {
   "cell_type": "markdown",
   "id": "6357de42-9588-4d81-bae8-d58996b26326",
   "metadata": {},
   "source": [
    "# GLOWLYTIC"
   ]
  },
  {
   "cell_type": "code",
   "execution_count": null,
   "id": "071c6579",
   "metadata": {},
   "outputs": [],
   "source": []
  },
  {
   "cell_type": "code",
   "execution_count": null,
   "id": "e32aff8e-515d-48b9-a45f-95694e8273ba",
   "metadata": {},
   "outputs": [],
   "source": [
    "import pandas as pd\n",
    "\n",
    "# Load the dataset\n",
    "df = pd.read_csv(\"Dataset.csv\")\n",
    "\n",
    "# General dataset info\n",
    "num_observations = len(df)\n",
    "num_rows, num_columns = df.shape\n",
    "\n",
    "variable_types = df.dtypes\n",
    "missing_values = df.isnull().sum()\n",
    "num_missing_values = missing_values.sum()\n",
    "num_unique_labels = df['labels'].nunique() if 'labels' in df.columns else \"Column 'labels' not found\"\n",
    "unique_labels = df['labels'].unique() if 'labels' in df.columns else \"Column 'labels' not found\"\n",
    "\n",
    "# Calculate unique labels\n",
    "classes = df['labels'].unique()\n",
    "\n",
    "\n",
    "# Print summary\n",
    "print(\"Dataset General information:\")\n",
    "print(\"Number of Observations: \", num_observations)\n",
    "\n",
    "print(f\"Number of Rows: {num_rows}\")\n",
    "print(f\"Number of Columns/ Variables: {num_columns}\")\n",
    "print(\"\\nVariable Types:\")\n",
    "print(variable_types)\n",
    "print(\"\\nNumber of Missing Values: \", num_missing_values)\n",
    "print(\"Missing Values by Variable:\\n\", missing_values)\n",
    "print(\"\\nClasses/Labels: \", classes)"
   ]
  }
 ],
 "metadata": {
  "kernelspec": {
   "display_name": "Python 3",
   "language": "python",
   "name": "python3"
  },
  "language_info": {
   "codemirror_mode": {
    "name": "ipython",
    "version": 3
   },
   "file_extension": ".py",
   "mimetype": "text/x-python",
   "name": "python",
   "nbconvert_exporter": "python",
   "pygments_lexer": "ipython3",
   "version": "3.12.9"
  }
 },
 "nbformat": 4,
 "nbformat_minor": 5
}
