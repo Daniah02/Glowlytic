{
 "cells": [
  {
   "cell_type": "markdown",
   "id": "6357de42-9588-4d81-bae8-d58996b26326",
   "metadata": {},
   "source": [
    "# GLOWLYTIC"
   ]
  },
  {
   "cell_type": "code",
   "execution_count": null,
   "id": "071c6579",
   "metadata": {},
   "outputs": [],
   "source": []
  },
  {
   "cell_type": "code",
   "execution_count": null,
   "id": "e32aff8e-515d-48b9-a45f-95694e8273ba",
   "metadata": {},
   "outputs": [],
   "source": [
    "import pandas as pd\n",
    "\n",
    "df = pd.read_csv(r\"C:\\Users\\dalow\\OneDrive\\Desktop\\Dataset.csv\")\n",
    "\n",
    "\n",
    "# Display the first few rows of the dataset\n",
    "df.head()\n",
    "\n",
    "# Get the number of observations (rows)\n",
    "num_observations = df.shape[0]\n",
    "\n",
    "# Get the number of variables (columns)\n",
    "num_variables = df.shape[1]\n",
    "\n",
    "# Get the column types\n",
    "variable_types = df.dtypes\n",
    "\n",
    "\n",
    "# Print the details\n",
    "print(\"Number of Observations: \", num_observations)\n",
    "print(\"Number of Variables: \", num_variables)\n",
    "print(\"\\nVariable Types:\\n\", variable_types)\n",
    "print(\"\\nClasses/Labels: \", classes)\n",
    "\n",
    "\n",
    "# Display unique labels in the 'labels' column\n",
    "unique_labels = df['labels'].unique()\n",
    "print(\"Unique Labels:\", unique_labels)\n"
   ]
  }
 ],
 "metadata": {
  "kernelspec": {
   "display_name": "Python 3",
   "language": "python",
   "name": "python3"
  },
  "language_info": {
   "codemirror_mode": {
    "name": "ipython",
    "version": 3
   },
   "file_extension": ".py",
   "mimetype": "text/x-python",
   "name": "python",
   "nbconvert_exporter": "python",
   "pygments_lexer": "ipython3",
   "version": "3.6.5"
  }
 },
 "nbformat": 4,
 "nbformat_minor": 5
}
