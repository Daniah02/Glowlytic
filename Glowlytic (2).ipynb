{
 "cells": [
  {
   "cell_type": "markdown",
   "id": "6357de42-9588-4d81-bae8-d58996b26326",
   "metadata": {},
   "source": [
    "# GLOWLYTIC"
   ]
  },
  {
   "cell_type": "code",
   "execution_count": null,
   "id": "071c6579",
   "metadata": {},
   "outputs": [],
   "source": []
  },
  {
   "cell_type": "code",
   "execution_count": 10,
   "id": "e32aff8e-515d-48b9-a45f-95694e8273ba",
   "metadata": {},
   "outputs": [
    {
     "name": "stdout",
     "output_type": "stream",
     "text": [
      "Dataset General information:\n",
      "Number of Observations:  1210\n",
      "Number of Rows: 1210\n",
      "Number of Columns/ Variables: 16\n",
      "\n",
      "Variable Types:\n",
      "Unnamed: 0          int64\n",
      "product_href       object\n",
      "product_name       object\n",
      "product_type       object\n",
      "brand              object\n",
      "notable_effects    object\n",
      "skintype           object\n",
      "price              object\n",
      "description        object\n",
      "picture_src        object\n",
      "labels              int64\n",
      "Sensitive           int64\n",
      "Combination         int64\n",
      "Oily                int64\n",
      "Dry                 int64\n",
      "Normal              int64\n",
      "dtype: object\n",
      "\n",
      "Number of Missing Values:  0\n",
      "Missing Values by Variable:\n",
      " Unnamed: 0         0\n",
      "product_href       0\n",
      "product_name       0\n",
      "product_type       0\n",
      "brand              0\n",
      "notable_effects    0\n",
      "skintype           0\n",
      "price              0\n",
      "description        0\n",
      "picture_src        0\n",
      "labels             0\n",
      "Sensitive          0\n",
      "Combination        0\n",
      "Oily               0\n",
      "Dry                0\n",
      "Normal             0\n",
      "dtype: int64\n",
      "\n",
      "Classes/Labels:  [ 18 127  40  88  87  49 108  22  34  24  30  54  71 149 119  95  70  65\n",
      "  98 100  76   7  66  77  97  89 134 129  11  86 132  47  33  36  10 147\n",
      "  44  16 122 136  90 148  79  60  41  62  51   2   0  91 140 124   8 117\n",
      " 144  17  20 103 101 111 146  39  73  67 131 104   3  92   6  21  83  25\n",
      " 142  28  32 102 107  19  84  13  29   4   1  35 138  53  50  63  14  69\n",
      "  42   5  59  94  80  99 110  23 141 139 115  81 121 133  56  78  45  55\n",
      "  12  52  93  38  85  74 128  64 125  61  57 137 135   9 145 109  68  31\n",
      " 105  48  27 120 150 113 118 130  72  37 126  26 112 106 143 116  46  75\n",
      "  82  58  96  15  43 123 114]\n"
     ]
    }
   ],
   "source": [
    "import pandas as pd\n",
    "\n",
    "# Load the dataset\n",
    "df = pd.read_csv(r\"C:\\Users\\dalow\\OneDrive\\Desktop\\Dataset.csv\")\n",
    "\n",
    "# General dataset info\n",
    "num_observations = len(df)\n",
    "num_rows, num_columns = df.shape\n",
    "\n",
    "variable_types = df.dtypes\n",
    "missing_values = df.isnull().sum()\n",
    "num_missing_values = missing_values.sum()\n",
    "num_unique_labels = df['labels'].nunique() if 'labels' in df.columns else \"Column 'labels' not found\"\n",
    "unique_labels = df['labels'].unique() if 'labels' in df.columns else \"Column 'labels' not found\"\n",
    "\n",
    "# Calculate unique labels\n",
    "classes = df['labels'].unique()\n",
    "\n",
    "\n",
    "# Print summary\n",
    "print(\"Dataset General information:\")\n",
    "print(\"Number of Observations: \", num_observations)\n",
    "\n",
    "print(f\"Number of Rows: {num_rows}\")\n",
    "print(f\"Number of Columns/ Variables: {num_columns}\")\n",
    "print(\"\\nVariable Types:\")\n",
    "print(variable_types)\n",
    "print(\"\\nNumber of Missing Values: \", num_missing_values)\n",
    "print(\"Missing Values by Variable:\\n\", missing_values)\n",
    "print(\"\\nClasses/Labels: \", classes)"
   ]
  }
 ],
 "metadata": {
  "kernelspec": {
   "display_name": "Python 3",
   "language": "python",
   "name": "python3"
  },
  "language_info": {
   "codemirror_mode": {
    "name": "ipython",
    "version": 3
   },
   "file_extension": ".py",
   "mimetype": "text/x-python",
   "name": "python",
   "nbconvert_exporter": "python",
   "pygments_lexer": "ipython3",
   "version": "3.13.2"
  }
 },
 "nbformat": 4,
 "nbformat_minor": 5
}
