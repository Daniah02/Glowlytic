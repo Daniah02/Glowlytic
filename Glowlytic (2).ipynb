{
 "cells": [
  {
   "cell_type": "markdown",
   "id": "6357de42-9588-4d81-bae8-d58996b26326",
   "metadata": {},
   "source": [
    "# GLOWLYTIC"
   ]
  },
  {
   "cell_type": "code",
   "execution_count": null,
   "id": "e32aff8e-515d-48b9-a45f-95694e8273ba",
   "metadata": {},
   "outputs": [],
   "source": []
  }
 ],
 "metadata": {
  "kernelspec": {
   "display_name": "Python [conda env:base] *",
   "language": "python",
   "name": "conda-base-py"
  },
  "language_info": {
   "codemirror_mode": {
    "name": "ipython",
    "version": 3
   },
   "file_extension": ".py",
   "mimetype": "text/x-python",
   "name": "python",
   "nbconvert_exporter": "python",
   "pygments_lexer": "ipython3",
   "version": "3.12.7"
  }
 },
 "nbformat": 4,
 "nbformat_minor": 5
}
