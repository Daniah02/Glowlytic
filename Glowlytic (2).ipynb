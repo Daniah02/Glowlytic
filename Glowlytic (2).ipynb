{
 "cells": [
  {
   "cell_type": "markdown",
   "id": "6357de42-9588-4d81-bae8-d58996b26326",
   "metadata": {},
   "source": [
    "# GLOWLYTIC"
   ]
  },
  {
   "cell_type": "code",
   "execution_count": null,
   "id": "071c6579",
   "metadata": {},
   "outputs": [],
   "source": []
  },
  {
   "cell_type": "code",
   "execution_count": 1,
   "id": "e32aff8e-515d-48b9-a45f-95694e8273ba",
   "metadata": {},
   "outputs": [
    {
     "name": "stdout",
     "output_type": "stream",
     "text": [
      "Number of Observations:  1210\n",
      "Number of Variables:  16\n",
      "\n",
      "Variable Types:\n",
      " Unnamed: 0          int64\n",
      "product_href       object\n",
      "product_name       object\n",
      "product_type       object\n",
      "brand              object\n",
      "notable_effects    object\n",
      "skintype           object\n",
      "price              object\n",
      "description        object\n",
      "picture_src        object\n",
      "labels              int64\n",
      "Sensitive           int64\n",
      "Combination         int64\n",
      "Oily                int64\n",
      "Dry                 int64\n",
      "Normal              int64\n",
      "dtype: object\n"
     ]
    },
    {
     "ename": "NameError",
     "evalue": "name 'classes' is not defined",
     "output_type": "error",
     "traceback": [
      "\u001b[1;31m---------------------------------------------------------------------------\u001b[0m",
      "\u001b[1;31mNameError\u001b[0m                                 Traceback (most recent call last)",
      "Cell \u001b[1;32mIn[1], line 23\u001b[0m\n\u001b[0;32m     21\u001b[0m \u001b[38;5;28mprint\u001b[39m(\u001b[38;5;124m\"\u001b[39m\u001b[38;5;124mNumber of Variables: \u001b[39m\u001b[38;5;124m\"\u001b[39m, num_variables)\n\u001b[0;32m     22\u001b[0m \u001b[38;5;28mprint\u001b[39m(\u001b[38;5;124m\"\u001b[39m\u001b[38;5;130;01m\\n\u001b[39;00m\u001b[38;5;124mVariable Types:\u001b[39m\u001b[38;5;130;01m\\n\u001b[39;00m\u001b[38;5;124m\"\u001b[39m, variable_types)\n\u001b[1;32m---> 23\u001b[0m \u001b[38;5;28mprint\u001b[39m(\u001b[38;5;124m\"\u001b[39m\u001b[38;5;130;01m\\n\u001b[39;00m\u001b[38;5;124mClasses/Labels: \u001b[39m\u001b[38;5;124m\"\u001b[39m, \u001b[43mclasses\u001b[49m)\n\u001b[0;32m     26\u001b[0m \u001b[38;5;66;03m# Display unique labels in the 'labels' column\u001b[39;00m\n\u001b[0;32m     27\u001b[0m unique_labels \u001b[38;5;241m=\u001b[39m df[\u001b[38;5;124m'\u001b[39m\u001b[38;5;124mlabels\u001b[39m\u001b[38;5;124m'\u001b[39m]\u001b[38;5;241m.\u001b[39munique()\n",
      "\u001b[1;31mNameError\u001b[0m: name 'classes' is not defined"
     ]
    }
   ],
   "source": [
    "import pandas as pd\n",
    "\n",
    "df = pd.read_csv(r\"C:\\Users\\dalow\\OneDrive\\Desktop\\Dataset.csv\")\n",
    "\n",
    "\n",
    "# Display the first few rows of the dataset\n",
    "df.head()\n",
    "\n",
    "# Get the number of observations (rows)\n",
    "num_observations = df.shape[0]\n",
    "\n",
    "# Get the number of variables (columns)\n",
    "num_variables = df.shape[1]\n",
    "\n",
    "# Get the column types\n",
    "variable_types = df.dtypes\n",
    "\n",
    "\n",
    "# Print the details\n",
    "print(\"Number of Observations: \", num_observations)\n",
    "print(\"Number of Variables: \", num_variables)\n",
    "print(\"\\nVariable Types:\\n\", variable_types)\n",
    "print(\"\\nClasses/Labels: \", classes)\n",
    "\n",
    "\n",
    "# Display unique labels in the 'labels' column\n",
    "unique_labels = df['labels'].unique()\n",
    "print(\"Unique Labels:\", unique_labels)"
   ]
  }
 ],
 "metadata": {
  "kernelspec": {
   "display_name": "Python 3",
   "language": "python",
   "name": "python3"
  },
  "language_info": {
   "codemirror_mode": {
    "name": "ipython",
    "version": 3
   },
   "file_extension": ".py",
   "mimetype": "text/x-python",
   "name": "python",
   "nbconvert_exporter": "python",
   "pygments_lexer": "ipython3",
   "version": "3.13.2"
  }
 },
 "nbformat": 4,
 "nbformat_minor": 5
}
