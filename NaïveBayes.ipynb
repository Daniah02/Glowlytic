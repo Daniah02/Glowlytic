{
 "cells": [
  {
   "cell_type": "markdown",
   "metadata": {},
   "source": [
    "Naïve Bayes"
   ]
  },
  {
   "cell_type": "code",
   "execution_count": 3,
   "metadata": {},
   "outputs": [
    {
     "name": "stdout",
     "output_type": "stream",
     "text": [
      "Naïve Bayes Accuracy: 0.59\n"
     ]
    }
   ],
   "source": [
    "import pandas as pd\n",
    "from sklearn.model_selection import train_test_split\n",
    "from sklearn.naive_bayes import MultinomialNB\n",
    "from sklearn.preprocessing import LabelEncoder\n",
    "from sklearn.metrics import accuracy_score\n",
    "\n",
    "# Load dataset\n",
    "file_path = \"Dataset/processed_file.csv\" \n",
    "df = pd.read_csv(file_path)\n",
    "\n",
    "# Selecting relevant features\n",
    "X = df[['brand']].copy()\n",
    "\n",
    "# Encoding categorical variables\n",
    "X = pd.get_dummies(X, columns=['brand'])\n",
    "\n",
    "# Adding binary encoded columns for notable effects and skin type\n",
    "notable_effects_columns = [col for col in df.columns if col.startswith('notable_effects_')]\n",
    "skin_type_columns = ['Sensitive', 'Combination', 'Oily', 'Dry', 'Normal']\n",
    "X[notable_effects_columns + skin_type_columns] = df[notable_effects_columns + skin_type_columns]\n",
    "\n",
    "# Encoding product_type\n",
    "y = LabelEncoder().fit_transform(df['product_type'].astype(str))\n",
    "\n",
    "# Splitting dataset into training and testing sets\n",
    "X_train, X_test, y_train, y_test = train_test_split(X, y, test_size=0.2, random_state=42)\n",
    "\n",
    "# Training Naïve Bayes classifier\n",
    "nb_classifier = MultinomialNB()\n",
    "nb_classifier.fit(X_train, y_train)\n",
    "\n",
    "# Making predictions\n",
    "y_pred = nb_classifier.predict(X_test)\n",
    "\n",
    "# Evaluating the model\n",
    "accuracy = accuracy_score(y_test, y_pred)\n",
    "print(f'Naïve Bayes Accuracy: {accuracy:.2f}')"
   ]
  }
 ],
 "metadata": {
  "kernelspec": {
   "display_name": "base",
   "language": "python",
   "name": "python3"
  },
  "language_info": {
   "codemirror_mode": {
    "name": "ipython",
    "version": 3
   },
   "file_extension": ".py",
   "mimetype": "text/x-python",
   "name": "python",
   "nbconvert_exporter": "python",
   "pygments_lexer": "ipython3",
   "version": "3.12.7"
  }
 },
 "nbformat": 4,
 "nbformat_minor": 2
}
