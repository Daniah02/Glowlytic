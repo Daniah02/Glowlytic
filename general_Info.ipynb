{
 "cells": [
  {
   "cell_type": "code",
   "execution_count": 8,
   "id": "ca11aedc-b53a-48ea-a8f2-6fa4bb770602",
   "metadata": {},
   "outputs": [
    {
     "name": "stdout",
     "output_type": "stream",
     "text": [
      "Number of Observations:  1210\n",
      "Number of Variables:  16\n",
      "\n",
      "Variable Types:\n",
      " Unnamed: 0          int64\n",
      "product_href       object\n",
      "product_name       object\n",
      "product_type       object\n",
      "brand              object\n",
      "notable_effects    object\n",
      "skintype           object\n",
      "price              object\n",
      "description        object\n",
      "picture_src        object\n",
      "labels              int64\n",
      "Sensitive           int64\n",
      "Combination         int64\n",
      "Oily                int64\n",
      "Dry                 int64\n",
      "Normal              int64\n",
      "dtype: object\n",
      "\n",
      "Classes/Labels:  None\n",
      "Unique Labels: [ 18 127  40  88  87  49 108  22  34  24  30  54  71 149 119  95  70  65\n",
      "  98 100  76   7  66  77  97  89 134 129  11  86 132  47  33  36  10 147\n",
      "  44  16 122 136  90 148  79  60  41  62  51   2   0  91 140 124   8 117\n",
      " 144  17  20 103 101 111 146  39  73  67 131 104   3  92   6  21  83  25\n",
      " 142  28  32 102 107  19  84  13  29   4   1  35 138  53  50  63  14  69\n",
      "  42   5  59  94  80  99 110  23 141 139 115  81 121 133  56  78  45  55\n",
      "  12  52  93  38  85  74 128  64 125  61  57 137 135   9 145 109  68  31\n",
      " 105  48  27 120 150 113 118 130  72  37 126  26 112 106 143 116  46  75\n",
      "  82  58  96  15  43 123 114]\n"
     ]
    }
   ],
   "source": [
    "\n",
    "import pandas as pd\n",
    "\n",
    "df = pd.read_csv(r\"C:\\Users\\dalow\\OneDrive\\Desktop\\Dataset.csv\")\n",
    "\n",
    "\n",
    "# Display the first few rows of the dataset\n",
    "df.head()\n",
    "\n",
    "# Get the number of observations (rows)\n",
    "num_observations = df.shape[0]\n",
    "\n",
    "# Get the number of variables (columns)\n",
    "num_variables = df.shape[1]\n",
    "\n",
    "# Get the column types\n",
    "variable_types = df.dtypes\n",
    "\n",
    "\n",
    "# Print the details\n",
    "print(\"Number of Observations: \", num_observations)\n",
    "print(\"Number of Variables: \", num_variables)\n",
    "print(\"\\nVariable Types:\\n\", variable_types)\n",
    "print(\"\\nClasses/Labels: \", classes)\n",
    "\n",
    "\n",
    "# Display unique labels in the 'labels' column\n",
    "unique_labels = df['labels'].unique()\n",
    "print(\"Unique Labels:\", unique_labels)"
   ]
  },
  {
   "cell_type": "code",
   "execution_count": null,
   "id": "003aeaf1-7a38-4b34-9147-db3e9b25a791",
   "metadata": {},
   "outputs": [],
   "source": []
  }
 ],
 "metadata": {
  "kernelspec": {
   "display_name": "Python 3 (ipykernel)",
   "language": "python",
   "name": "python3"
  },
  "language_info": {
   "codemirror_mode": {
    "name": "ipython",
    "version": 3
   },
   "file_extension": ".py",
   "mimetype": "text/x-python",
   "name": "python",
   "nbconvert_exporter": "python",
   "pygments_lexer": "ipython3",
   "version": "3.13.2"
  }
 },
 "nbformat": 4,
 "nbformat_minor": 5
}
