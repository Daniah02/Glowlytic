{
 "cells": [
  {
   "cell_type": "markdown",
   "metadata": {},
   "source": [
    "## Phase 4: Integrate Generative AI"
   ]
  },
  {
   "cell_type": "markdown",
   "metadata": {},
   "source": [
    "### Generative AI Overview:\n",
    "**Generative AI** is a type of **artificial intelligence** that can produce original content—such as text, images, audio, or code—based on user prompts. It uses deep learning models that mimic human cognitive processes to detect patterns in massive datasets and generate relevant outputs in response to natural language inputs. [1]\n",
    "\n",
    "### How can Generative AI enhance our system?\n",
    "In this assignment, we integrate **Generative AI** into our pre-existing supervised skincare recommendation system using ChatGPT, a language model developed by OpenAI. [2]\n",
    "\n",
    "ChatGPT (short for Chat Generative Pre-trained Transformer) processes user inputs like skin type and desired skincare effects to produce personalized product advice. This makes it a powerful tool for recommendation systems, where user-specific data can be interpreted in real time to generate tailored outputs without relying on fixed decision trees or manually curated product lists. By leveraging ChatGPT's natural language understanding capabilities, the system becomes more adaptive, scalable, and capable of engaging users in a conversational interface.\n",
    "\n",
    "### Effectiveness of Prompts\n",
    "The sentences or questions that you enter into a **Generative AI** tool, also known as prompts, greatly affect the quality of outputs you receive. After you enter a prompt, the model analyzes the input and generates a response based on the patterns it has learned through its training. Descriptive prompts can enhance the quality of the outputs. [3]\n",
    "\n",
    "By experimenting with two different prompt templates, we explore how variations in prompt detail influence the quality and specificity of AI-generated recommendations. This allows us to compare and justify the effectiveness of each template in delivering clear, useful, and user-centered skincare suggestions.\n",
    "\n",
    "**Prompt 1:** \"You are a skincare advisor. The user has {skin} skin, wants {effect} results,\n",
    "        prefers {brand} brand, and has a budget around {price} SAR.\n",
    "        The recommended product type is: {predicted_label}.\n",
    "        Please explain why this product type fits their needs in a friendly, informative way.\"\n",
    "\n",
    "**Prompt 2:** \"As a skincare consultant, analyze the user's profile:\n",
    "        - Skin Type: {skin}\n",
    "        - Concern: {effect}\n",
    "        - Preferred Brand: {brand}\n",
    "        - Budget: {price} SAR\n",
    "        - Predicted Product Type: {predicted_label}\n",
    "        Provide an explanation of why this product type is recommended,\n",
    "        and how it works for their specific concern and skin type.\""
   ]
  },
  {
   "cell_type": "code",
   "execution_count": 1,
   "metadata": {},
   "outputs": [
    {
     "name": "stdout",
     "output_type": "stream",
     "text": [
      "Fill in your details and click Submit:\n"
     ]
    },
    {
     "data": {
      "application/vnd.jupyter.widget-view+json": {
       "model_id": "63af7e14d07f47cd8c273bcf988ac1e8",
       "version_major": 2,
       "version_minor": 0
      },
      "text/plain": [
       "Dropdown(description='Brand:', options=(\"A'PIEU\", 'ACWELL', 'AHC', 'AIZEN', 'ANESSA', 'ARGAVELL', 'ARIUL', 'AV…"
      ]
     },
     "metadata": {},
     "output_type": "display_data"
    },
    {
     "data": {
      "application/vnd.jupyter.widget-view+json": {
       "model_id": "f5a199a515a447e6aa5ebfd1b4d0f7fa",
       "version_major": 2,
       "version_minor": 0
      },
      "text/plain": [
       "Dropdown(description='Effect:', options=('acne-free', 'acne-spot', 'anti-aging', 'balancing', 'black-spot', 'b…"
      ]
     },
     "metadata": {},
     "output_type": "display_data"
    },
    {
     "data": {
      "application/vnd.jupyter.widget-view+json": {
       "model_id": "28e153248cfb4473ae710c2b37638841",
       "version_major": 2,
       "version_minor": 0
      },
      "text/plain": [
       "Dropdown(description='Skin Type:', options=('Oily', 'Dry', 'Normal'), value='Oily')"
      ]
     },
     "metadata": {},
     "output_type": "display_data"
    },
    {
     "data": {
      "application/vnd.jupyter.widget-view+json": {
       "model_id": "ad0bec4248694f8dabfd93905b0fd62e",
       "version_major": 2,
       "version_minor": 0
      },
      "text/plain": [
       "BoundedIntText(value=100, description='Price:', max=1000, min=10, step=10)"
      ]
     },
     "metadata": {},
     "output_type": "display_data"
    },
    {
     "data": {
      "application/vnd.jupyter.widget-view+json": {
       "model_id": "2826bfe418e24f4aae68dc4fc0282794",
       "version_major": 2,
       "version_minor": 0
      },
      "text/plain": [
       "Button(description='Get Recommendation', style=ButtonStyle())"
      ]
     },
     "metadata": {},
     "output_type": "display_data"
    },
    {
     "data": {
      "application/vnd.jupyter.widget-view+json": {
       "model_id": "88084a42a5f24e05907076001c36e596",
       "version_major": 2,
       "version_minor": 0
      },
      "text/plain": [
       "Output()"
      ]
     },
     "metadata": {},
     "output_type": "display_data"
    }
   ],
   "source": [
    "# === Imports ===\n",
    "import os\n",
    "import pandas as pd\n",
    "from dotenv import load_dotenv\n",
    "from openai import OpenAI\n",
    "from catboost import CatBoostClassifier\n",
    "import ipywidgets as widgets\n",
    "from IPython.display import display, HTML\n",
    "\n",
    "# === Load API Key ===\n",
    "load_dotenv()\n",
    "client = OpenAI(api_key=os.getenv(\"OPENAI_API_KEY\"))\n",
    "\n",
    "# === Load CatBoost model ===\n",
    "model = CatBoostClassifier()\n",
    "model.load_model(\"catboost_model.cbm\")  \n",
    "\n",
    "\n",
    "# Load original dataframe to get product type labels\n",
    "original_df = pd.read_csv(\"../Dataset/processed_file.csv\")\n",
    "clustered_df = pd.read_csv(\"../Dataset/clustered_data_k6.csv\")\n",
    "original_df[\"Cluster\"] = clustered_df[\"Cluster\"]\n",
    "\n",
    "product_type_columns = [col for col in original_df.columns if col.startswith(\"product_type_\")]\n",
    "index_to_label = [col.replace(\"product_type_\", \"\") for col in product_type_columns]\n",
    "\n",
    "# For brand dropdown\n",
    "brands = sorted(original_df['brand'].dropna().unique().tolist())\n",
    "\n",
    "# For notable_effects dropdown (extract from one-hot columns)\n",
    "effect_columns = [col for col in original_df.columns if col.startswith('notable_effects_')]\n",
    "effects = [col.replace('notable_effects_', '') for col in effect_columns]\n",
    "\n",
    "# === Define Widgets ===\n",
    "brand_dropdown = widgets.Dropdown(options=brands, description='Brand:')\n",
    "effect_dropdown = widgets.Dropdown(options=effects, description='Effect:')\n",
    "skin_dropdown = widgets.Dropdown(options=['Oily', 'Dry', 'Normal'], description='Skin Type:')\n",
    "price_input = widgets.BoundedIntText(value=100, min=10, max=1000, step=10, description='Price:')\n",
    "submit_button = widgets.Button(description=\"Get Recommendation\")\n",
    "output = widgets.Output()\n",
    "\n",
    "# === GPT prompt function ===\n",
    "def ask_gpt(prompt):\n",
    "    response = client.chat.completions.create(\n",
    "        model=\"gpt-3.5-turbo\",\n",
    "        messages=[{\"role\": \"user\", \"content\": prompt}],\n",
    "        temperature=0.7\n",
    "    )\n",
    "    return response.choices[0].message.content\n",
    "\n",
    "# === Submit button logic ===\n",
    "def on_submit(b):\n",
    "    with output:\n",
    "        output.clear_output()\n",
    "\n",
    "        # Get user inputs\n",
    "        brand = brand_dropdown.value\n",
    "        effect = effect_dropdown.value\n",
    "        skin = skin_dropdown.value\n",
    "        price = price_input.value\n",
    "\n",
    "        # === Create input for model ===\n",
    "        input_dict = {\n",
    "            'brand_' + brand: 1,\n",
    "            'price_SAR': price,\n",
    "            f'notable_effects_{effect}': 1,\n",
    "            f'{skin}': 1\n",
    "        }\n",
    "\n",
    "        # Fill remaining model features with 0\n",
    "        full_input = pd.DataFrame([{\n",
    "            col: input_dict.get(col, 0) for col in model.feature_names_\n",
    "        }])\n",
    "\n",
    "        # Predict product type\n",
    "        predicted_index = model.predict(full_input)[0].item()\n",
    "        predicted_label = index_to_label[predicted_index]\n",
    "\n",
    "        # === First Template ===\n",
    "        prompt_1 = f\"\"\"\n",
    "        You are a skincare advisor. The user has {skin} skin, wants {effect} results,\n",
    "        prefers {brand} brand, and has a budget around {price} SAR.\n",
    "        The recommended product type is: {predicted_label}.\n",
    "        Please explain why this product type fits their needs in a friendly, informative way.\n",
    "        \"\"\"\n",
    "\n",
    "        # === Second Template ===\n",
    "        prompt_2 = f\"\"\"\n",
    "        As a skincare consultant, analyze the user's profile:\n",
    "        - Skin Type: {skin}\n",
    "        - Concern: {effect}\n",
    "        - Preferred Brand: {brand}\n",
    "        - Budget: {price} SAR\n",
    "        - Predicted Product Type: {predicted_label}\n",
    "        Provide an explanation of why this product type is recommended,\n",
    "        and how it works for their specific concern and skin type.\n",
    "        \"\"\"\n",
    "\n",
    "        # GPT responses\n",
    "        response_1 = ask_gpt(prompt_1)\n",
    "        response_2 = ask_gpt(prompt_2)\n",
    "\n",
    "        # === Display results ===\n",
    "        display(HTML(f\"<h4 style='color:green;'>Predicted Product Type: {predicted_label}</h4>\"))\n",
    "        display(HTML(f\"<p><strong>GPT Advice 1 :</strong><br>{response_1}</p>\"))\n",
    "        display(HTML(f\"<p><strong>GPT Advice 2 :</strong><br>{response_2}</p>\"))\n",
    "\n",
    "\n",
    "# Bind button\n",
    "submit_button.on_click(on_submit)\n",
    "\n",
    "# === Display UI ===\n",
    "print(\"Fill in your details and click Submit:\")\n",
    "display(brand_dropdown, effect_dropdown, skin_dropdown, price_input, submit_button, output)\n"
   ]
  },
  {
   "cell_type": "markdown",
   "metadata": {},
   "source": [
    "### Prompt Comparison\n",
    "\n",
    "\n",
    "| Criteria                        | **Prompt 1**                                                                 | **Prompt 2**                                                                 |\n",
    "|--------------------------------|------------------------------------------------------------------------------|------------------------------------------------------------------------------|\n",
    "| **Text of Prompt**             | You are a skincare advisor. The user has {skin} skin, wants {effect} results, prefers {brand} brand, and has a budget around {price} SAR. The recommended product type is: {predicted_label}. Please explain why this product type fits their needs in a friendly, informative way. | As a skincare consultant, analyze the user's profile: - Skin Type: {skin} - Concern: {effect} - Preferred Brand: {brand} - Budget: {price} SAR - Predicted Product Type: {predicted_label} Provide an explanation of why this product type is recommended, and how it works for their specific concern and skin type. |\n",
    "| **Tone**                       | Friendly, conversational                                                    | Professional, analytical                                                    |\n",
    "| **Clarity of Structure**       | Medium – natural flow                                                       | High – structured layout                                                    |\n",
    "| **Level of Detail in Output**  | Medium – focuses on user-friendliness                                       | High – encourages deeper explanation                                        |\n",
    "| **AI Guidance Strength**       | Medium – more open-ended, flexible tone                                     | High – structured prompts improve AI's consistency                          |\n",
    "\n",
    "### Chosen Prompt and Justification\n",
    "\n",
    "✅ Chosen Prompt: **Prompt 2**\n",
    "\n",
    "#### Justification:\n",
    "Prompt 2 is selected because it provides a more **structured and professional** format, which ensures consistency in the AI's output. It breaks down the user's input into clear, analyzable attributes and prompts the AI to respond with specific attention to how the product type aligns with each factor. This improves the depth and relevance of recommendations, and enhances trust in the advisor's knowledge and accuracy. While Prompt 1 offers a friendlier tone, Prompt 2 achieves a stronger balance between informativeness and personalization, making it better suited for users seeking credible skincare guidance."
   ]
  },
  {
   "cell_type": "markdown",
   "metadata": {},
   "source": [
    "### References\n",
    "\n",
    "**[1]** IBM, \"What is Generative AI?,\" IBM Think, [Online]. Available: https://www.ibm.com/think/topics/generative-ai. \n",
    "\n",
    "**[2]** Lighthouse Guild, \"What is ChatGPT?,\" [Online]. Available: https://lighthouseguild.org/what-is-chat-gpt/.\n",
    "\n",
    "**[3]** Harvard University Information Technology, \"Writing Better Prompts for AI Tools,\" Harvard University IT, [Online]. Available: https://www.huit.harvard.edu/news/ai-prompts.\n"
   ]
  }
 ],
 "metadata": {
  "kernelspec": {
   "display_name": "Python 3",
   "language": "python",
   "name": "python3"
  },
  "language_info": {
   "codemirror_mode": {
    "name": "ipython",
    "version": 3
   },
   "file_extension": ".py",
   "mimetype": "text/x-python",
   "name": "python",
   "nbconvert_exporter": "python",
   "pygments_lexer": "ipython3",
   "version": "3.12.6"
  }
 },
 "nbformat": 4,
 "nbformat_minor": 2
}
