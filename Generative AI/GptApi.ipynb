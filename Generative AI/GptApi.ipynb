{
 "cells": [
  {
   "cell_type": "markdown",
   "metadata": {},
   "source": [
    "## Phase 4: Integrate Generative AI"
   ]
  },
  {
   "cell_type": "markdown",
   "metadata": {},
   "source": [
    "### Generative AI Overview:\n",
    "**Generative AI** is a type of **artificial intelligence** that can produce original content—such as text, images, audio, or code—based on user prompts. It uses deep learning models that mimic human cognitive processes to detect patterns in massive datasets and generate relevant outputs in response to natural language inputs. [1]\n",
    "\n",
    "### How can Generative AI enhance our system?\n",
    "In this assignment, we integrate **Generative AI** into our skincare recommendation system using ChatGPT, a language model developed by OpenAI. [2]\n",
    "\n",
    "ChatGPT (short for Chat Generative Pre-trained Transformer) processes user inputs like skin type and desired skincare effects to produce personalized product advice. This makes it a powerful tool for recommendation systems, where user-specific data can be interpreted in real time to generate tailored outputs without relying on fixed decision trees or manually curated product lists. By leveraging ChatGPT's natural language understanding capabilities, the system becomes more adaptive, scalable, and capable of engaging users in a conversational interface.\n",
    "\n",
    "### Effectiveness of Prompts\n",
    "The sentences or questions that you enter into a **Generative AI** tool, also known as prompts, greatly affect the quality of outputs you receive. After you enter a prompt, the model analyzes the input and generates a response based on the patterns it has learned through its training. Descriptive prompts can enhance the quality of the outputs. [3]\n",
    "\n",
    "By experimenting with two different prompt templates, we explore how variations in prompt detail influence the quality and specificity of AI-generated recommendations. This allows us to compare and justify the effectiveness of each template in delivering clear, useful, and user-centered skincare suggestions.\n",
    "\n",
    "**Prompt 1:** \"You are a beauty advisor. Based on the user's skin type: {skin_type}, and desired effect: {notable_effect}, \n",
    "recommend a product type and explain why.\"\n",
    "\n",
    "**Prompt 2:** \"You are an expert skincare consultant. A user has a {skin_type} skin type and is looking for products with \n",
    "the following effect: {notable_effect}. Consider the price range around {price}, and explain in detail which \n",
    "product type you would recommend from the following options: {product_options}. Also explain how the product \n",
    "helps and why it suits the user's needs.\""
   ]
  },
  {
   "cell_type": "code",
   "execution_count": 1,
   "metadata": {},
   "outputs": [
    {
     "name": "stdout",
     "output_type": "stream",
     "text": [
      "=== Template 1 Response ===\n",
      " I recommend a salicylic acid-based cleanser or toner for your oily skin and desired anti-acne effect. Salicylic acid is a beta hydroxy acid that can effectively penetrate into the pores to exfoliate and unclog them, reducing the occurrence of acne breakouts. It also helps to regulate oil production and prevent future breakouts. Using a salicylic acid-based product consistently can help to improve the overall appearance of your skin and minimize acne flare-ups.\n",
      "\n",
      "=== Template 2 Response ===\n",
      " For someone with oily skin looking for anti-acne products within a price range of around 150 SAR, I would recommend a cleanser and a serum.\n",
      "\n",
      "Cleanser: I would recommend a gel-based cleanser specifically formulated for oily and acne-prone skin. Look for ingredients like salicylic acid, tea tree oil, or benzoyl peroxide which can help unclog pores, reduce excess oil production, and target acne-causing bacteria. A good option within the price range could be a salicylic acid cleanser from a reputable skincare brand.\n",
      "\n",
      "Serum: A serum with ingredients like niacinamide, retinol, or hyaluronic acid can help with acne-prone skin. Niacinamide can help regulate oil production, reduce inflammation, and improve the overall appearance of the skin. Retinol can help with cell turnover, unclog pores, and reduce acne scars. Hyaluronic acid can provide hydration without clogging pores. Look for a serum that combines these ingredients for maximum benefits.\n",
      "\n",
      "These products can help the user's oily skin by reducing excess oil production, unclogging pores, and targeting acne-causing bacteria. The cleanser will help to thoroughly cleanse the skin without stripping it of its natural oils, while the serum will provide targeted treatment to address acne concerns. It's important to follow a consistent skincare routine with these products to see the best results.\n"
     ]
    }
   ],
   "source": [
    "import os\n",
    "import pandas as pd\n",
    "from dotenv import load_dotenv\n",
    "\n",
    "from openai import OpenAI  # NEW import style for v1+\n",
    "\n",
    "load_dotenv()\n",
    "\n",
    "# Create OpenAI client with your key\n",
    "client = OpenAI(api_key=os.getenv(\"OPENAI_API_KEY\"))\n",
    "\n",
    "\n",
    "# Prompt Templates\n",
    "template_1 = \"\"\"\n",
    "You are a beauty advisor. Based on the user's skin type: {skin_type}, and desired effect: {notable_effect}, \n",
    "recommend a product type and explain why.\n",
    "\"\"\"\n",
    "\n",
    "template_2 = \"\"\"\n",
    "You are an expert skincare consultant. A user has a {skin_type} skin type and is looking for products with \n",
    "the following effect: {notable_effect}. Consider the price range around {price}, and explain in detail which \n",
    "product type you would recommend from the following options: {product_options}. Also explain how the product \n",
    "helps and why it suits the user's needs.\n",
    "\"\"\"\n",
    "\n",
    "# User Input\n",
    "skin_type = \"Oily\"\n",
    "notable_effect = \"Anti-acne\"\n",
    "price = \"150 SAR\"\n",
    "product_options = [\"Cleanser\", \"Serum\", \"Moisturizer\", \"Toner\"]\n",
    "\n",
    "# Format Prompts\n",
    "prompt_1 = template_1.format(skin_type=skin_type, notable_effect=notable_effect)\n",
    "prompt_2 = template_2.format(\n",
    "    skin_type=skin_type,\n",
    "    notable_effect=notable_effect,\n",
    "    price=price,\n",
    "    product_options=\", \".join(product_options)\n",
    ")\n",
    "\n",
    "# Ask GPT using the new client\n",
    "def ask_gpt(prompt):\n",
    "    response = client.chat.completions.create(\n",
    "        model=\"gpt-3.5-turbo\",  # or \"gpt-4\" if you have access\n",
    "        messages=[{\"role\": \"user\", \"content\": prompt}],\n",
    "        temperature=0.7\n",
    "    )\n",
    "    return response.choices[0].message.content\n",
    "\n",
    "# Get responses\n",
    "response_1 = ask_gpt(prompt_1)\n",
    "response_2 = ask_gpt(prompt_2)\n",
    "\n",
    "# Display results\n",
    "print(\"=== Template 1 Response ===\\n\", response_1)\n",
    "print(\"\\n=== Template 2 Response ===\\n\", response_2)\n"
   ]
  },
  {
   "cell_type": "code",
   "execution_count": 15,
   "metadata": {},
   "outputs": [
    {
     "name": "stdout",
     "output_type": "stream",
     "text": [
      "Fill in your details and click Submit:\n"
     ]
    },
    {
     "data": {
      "application/vnd.jupyter.widget-view+json": {
       "model_id": "0056ba5b6090414293473c785ed57d16",
       "version_major": 2,
       "version_minor": 0
      },
      "text/plain": [
       "Dropdown(description='Brand:', options=(\"A'PIEU\", 'ACWELL', 'AHC', 'AIZEN', 'ANESSA', 'ARGAVELL', 'ARIUL', 'AV…"
      ]
     },
     "metadata": {},
     "output_type": "display_data"
    },
    {
     "data": {
      "application/vnd.jupyter.widget-view+json": {
       "model_id": "2372b8a7de554be7bed16f752fb9a319",
       "version_major": 2,
       "version_minor": 0
      },
      "text/plain": [
       "Dropdown(description='Effect:', options=('acne-free', 'acne-spot', 'anti-aging', 'balancing', 'black-spot', 'b…"
      ]
     },
     "metadata": {},
     "output_type": "display_data"
    },
    {
     "data": {
      "application/vnd.jupyter.widget-view+json": {
       "model_id": "e051278c1f86450b95df3b56f10e65c6",
       "version_major": 2,
       "version_minor": 0
      },
      "text/plain": [
       "Dropdown(description='Skin Type:', options=('Oily', 'Dry', 'Normal'), value='Oily')"
      ]
     },
     "metadata": {},
     "output_type": "display_data"
    },
    {
     "data": {
      "application/vnd.jupyter.widget-view+json": {
       "model_id": "afd3fa25fbfe42b9a4225bcfe0464bae",
       "version_major": 2,
       "version_minor": 0
      },
      "text/plain": [
       "BoundedIntText(value=100, description='Price:', max=1000, min=10, step=10)"
      ]
     },
     "metadata": {},
     "output_type": "display_data"
    },
    {
     "data": {
      "application/vnd.jupyter.widget-view+json": {
       "model_id": "20256a7341894cbc94a02aab0e171a04",
       "version_major": 2,
       "version_minor": 0
      },
      "text/plain": [
       "Button(description='Get Recommendation', style=ButtonStyle())"
      ]
     },
     "metadata": {},
     "output_type": "display_data"
    },
    {
     "data": {
      "application/vnd.jupyter.widget-view+json": {
       "model_id": "4cea6e6cb2254d5e8df595b1df466dc6",
       "version_major": 2,
       "version_minor": 0
      },
      "text/plain": [
       "Output()"
      ]
     },
     "metadata": {},
     "output_type": "display_data"
    }
   ],
   "source": [
    "# === Imports ===\n",
    "import os\n",
    "import pandas as pd\n",
    "from dotenv import load_dotenv\n",
    "from openai import OpenAI\n",
    "from catboost import CatBoostClassifier\n",
    "import ipywidgets as widgets\n",
    "from IPython.display import display, HTML\n",
    "\n",
    "# === Load API Key ===\n",
    "load_dotenv()\n",
    "client = OpenAI(api_key=os.getenv(\"OPENAI_API_KEY\"))\n",
    "\n",
    "# === Load CatBoost model ===\n",
    "model = CatBoostClassifier()\n",
    "model.load_model(\"catboost_model.cbm\")  \n",
    "\n",
    "# Load original dataframe to get product type labels\n",
    "original_df = pd.read_csv(\"../Dataset/processed_file.csv\")\n",
    "clustered_df = pd.read_csv(\"../Dataset/clustered_data_k6.csv\")\n",
    "original_df[\"Cluster\"] = clustered_df[\"Cluster\"]\n",
    "\n",
    "product_type_columns = [col for col in original_df.columns if col.startswith(\"product_type_\")]\n",
    "index_to_label = [col.replace(\"product_type_\", \"\") for col in product_type_columns]\n",
    "\n",
    "# For brand dropdown\n",
    "brands = sorted(original_df['brand'].dropna().unique().tolist())\n",
    "\n",
    "# For notable_effects dropdown (extract from one-hot columns)\n",
    "effect_columns = [col for col in original_df.columns if col.startswith('notable_effects_')]\n",
    "effects = [col.replace('notable_effects_', '') for col in effect_columns]\n",
    "\n",
    "# === Define Widgets ===\n",
    "brand_dropdown = widgets.Dropdown(options=brands, description='Brand:')\n",
    "effect_dropdown = widgets.Dropdown(options=effects, description='Effect:')\n",
    "skin_dropdown = widgets.Dropdown(options=['Oily', 'Dry', 'Normal'], description='Skin Type:')\n",
    "price_input = widgets.BoundedIntText(value=100, min=10, max=1000, step=10, description='Price:')\n",
    "submit_button = widgets.Button(description=\"Get Recommendation\")\n",
    "output = widgets.Output()\n",
    "\n",
    "# === GPT prompt function ===\n",
    "def ask_gpt(prompt):\n",
    "    response = client.chat.completions.create(\n",
    "        model=\"gpt-3.5-turbo\",\n",
    "        messages=[{\"role\": \"user\", \"content\": prompt}],\n",
    "        temperature=0.7\n",
    "    )\n",
    "    return response.choices[0].message.content\n",
    "\n",
    "# === Submit button logic ===\n",
    "def on_submit(b):\n",
    "    with output:\n",
    "        output.clear_output()\n",
    "\n",
    "        # Get user inputs\n",
    "        brand = brand_dropdown.value\n",
    "        effect = effect_dropdown.value\n",
    "        skin = skin_dropdown.value\n",
    "        price = price_input.value\n",
    "\n",
    "        # === Create input for model ===\n",
    "        input_dict = {\n",
    "            'brand_' + brand: 1,\n",
    "            'price_SAR': price,\n",
    "            f'notable_effects_{effect}': 1,\n",
    "            f'{skin}': 1\n",
    "        }\n",
    "\n",
    "        # Fill remaining model features with 0\n",
    "        full_input = pd.DataFrame([{\n",
    "            col: input_dict.get(col, 0) for col in model.feature_names_\n",
    "        }])\n",
    "\n",
    "        # Predict product type\n",
    "        predicted_index = model.predict(full_input)[0].item()\n",
    "        predicted_label = index_to_label[predicted_index]\n",
    "\n",
    "        # === First Template ===\n",
    "        prompt_1 = f\"\"\"\n",
    "        You are a skincare advisor. The user has {skin} skin, wants {effect} results,\n",
    "        prefers {brand} brand, and has a budget around {price} SAR.\n",
    "        The recommended product type is: {predicted_label}.\n",
    "        Please explain why this product type fits their needs in a friendly, informative way.\n",
    "        \"\"\"\n",
    "\n",
    "        # === Second Template ===\n",
    "        prompt_2 = f\"\"\"\n",
    "        As a skincare consultant, analyze the user's profile:\n",
    "        - Skin Type: {skin}\n",
    "        - Concern: {effect}\n",
    "        - Preferred Brand: {brand}\n",
    "        - Budget: {price} SAR\n",
    "        - Predicted Product Type: {predicted_label}\n",
    "        Provide an explanation of why this product type is recommended,\n",
    "        and how it works for their specific concern and skin type.\n",
    "        \"\"\"\n",
    "\n",
    "        # GPT responses\n",
    "        response_1 = ask_gpt(prompt_1)\n",
    "        response_2 = ask_gpt(prompt_2)\n",
    "\n",
    "        # === Display results ===\n",
    "        display(HTML(f\"<h4 style='color:green;'>Predicted Product Type: {predicted_label}</h4>\"))\n",
    "        display(HTML(f\"<p><strong>GPT Advice 1 :</strong><br>{response_1}</p>\"))\n",
    "        display(HTML(f\"<p><strong>GPT Advice 2 :</strong><br>{response_2}</p>\"))\n",
    "\n",
    "\n",
    "# Bind button\n",
    "submit_button.on_click(on_submit)\n",
    "\n",
    "# === Display UI ===\n",
    "print(\"Fill in your details and click Submit:\")\n",
    "display(brand_dropdown, effect_dropdown, skin_dropdown, price_input, submit_button, output)\n"
   ]
  },
  {
   "cell_type": "markdown",
   "metadata": {},
   "source": [
    "### Prompt Comparison\n",
    "\n",
    "\n",
    "### Chosen Prompt and Justification"
   ]
  },
  {
   "cell_type": "markdown",
   "metadata": {},
   "source": [
    "### References\n",
    "\n",
    "**[1]** IBM, \"What is Generative AI?,\" IBM Think, [Online]. Available: https://www.ibm.com/think/topics/generative-ai. \n",
    "\n",
    "**[2]** Lighthouse Guild, \"What is ChatGPT?,\" [Online]. Available: https://lighthouseguild.org/what-is-chat-gpt/.\n",
    "\n",
    "**[3]** Harvard University Information Technology, \"Writing Better Prompts for AI Tools,\" Harvard University IT, [Online]. Available: https://www.huit.harvard.edu/news/ai-prompts.\n"
   ]
  }
 ],
 "metadata": {
  "kernelspec": {
   "display_name": "Python 3",
   "language": "python",
   "name": "python3"
  },
  "language_info": {
   "codemirror_mode": {
    "name": "ipython",
    "version": 3
   },
   "file_extension": ".py",
   "mimetype": "text/x-python",
   "name": "python",
   "nbconvert_exporter": "python",
   "pygments_lexer": "ipython3",
   "version": "3.12.6"
  }
 },
 "nbformat": 4,
 "nbformat_minor": 2
}
