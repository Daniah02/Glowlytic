{
 "cells": [
  {
   "cell_type": "markdown",
   "metadata": {},
   "source": [
    "### Support Vector Machine (SVM)"
   ]
  },
  {
   "cell_type": "markdown",
   "metadata": {},
   "source": [
    "Support Vector Machine (SVM) is one of the most notable supervised machine learning algorithms, it was designed to classify data by finding the most ideal boundary between different attributes. Unlike some other models that might get distracted by noise or additional details, SVM focuses on the most important data points which are the ones that are closest to the boundary to ensure that the systems decisions are made in a clear and precise way. By maximizing the margin between categories, SVM improves accuracy and make classification task reliable."
   ]
  },
  {
   "cell_type": "markdown",
   "metadata": {},
   "source": [
    "#### Justification\n",
    "\n",
    "We chose to implement SVM because of the following reasons: \n",
    "\n",
    "1.\tThe Glowlytic recommendation system takes into consideration multiple attributes, including skin type, product type, brand, and notable effects. Also, SVM’s ability to work well in high-dimensional spaces makes sure that all these factors are taken into account for accurate recommendations.\n",
    "\n",
    "2.\tSince our system relies on a curated datasets and a massive amount of data, SVM makes an ideal choice. It promises high accuracy even with a smaller dataset, and outperforms other models that need extensive training data to be effective.\n",
    "\n",
    "3.\tUnlike models that may struggle with new inputs, SVM has balance by having clear decision boundaries. This makes it have less tendency to overfit  and ensures that recommendations remain the same across different users."
   ]
  },
  {
   "cell_type": "code",
   "execution_count": 2,
   "metadata": {},
   "outputs": [
    {
     "name": "stdout",
     "output_type": "stream",
     "text": [
      "✅ Best Parameters Found: {'C': 1, 'kernel': 'rbf'}\n",
      "🎯 SVM Model Accuracy: 0.56\n",
      "              precision    recall  f1-score   support\n",
      "\n",
      "           0       0.68      0.42      0.52        40\n",
      "           1       0.36      0.39      0.38        41\n",
      "           2       0.57      0.70      0.63        79\n",
      "           3       0.84      0.76      0.80        42\n",
      "           4       0.38      0.38      0.38        40\n",
      "\n",
      "    accuracy                           0.56       242\n",
      "   macro avg       0.57      0.53      0.54       242\n",
      "weighted avg       0.57      0.56      0.56       242\n",
      "\n"
     ]
    }
   ],
   "source": [
    "import pandas as pd\n",
    "from sklearn.model_selection import train_test_split, GridSearchCV\n",
    "from sklearn.svm import SVC\n",
    "from sklearn.preprocessing import LabelEncoder, StandardScaler\n",
    "from sklearn.metrics import accuracy_score, classification_report\n",
    "\n",
    "# Load the new cleaned dataset\n",
    "file_path = \"Dataset/processed_file.csv\"  # Update this path if needed\n",
    "df = pd.read_csv(file_path)\n",
    "\n",
    "# Fill missing values only for numeric columns\n",
    "numeric_cols = df.select_dtypes(include=['number']).columns\n",
    "df[numeric_cols] = df[numeric_cols].fillna(df[numeric_cols].median())\n",
    "\n",
    "# Selecting relevant features (Ensure 'brand' exists)\n",
    "if 'brand' not in df.columns:\n",
    "    raise ValueError(\"Error: 'brand' column is missing in the dataset!\")\n",
    "\n",
    "X = df[['brand']].copy()\n",
    "\n",
    "# Encoding categorical 'brand' column\n",
    "label_encoder = LabelEncoder()\n",
    "X['brand'] = label_encoder.fit_transform(df['brand'])\n",
    "\n",
    "# Identify binary encoded columns for notable effects and skin type\n",
    "notable_effects_columns = [col for col in df.columns if col.startswith('notable_effects_')]\n",
    "skin_type_columns = ['Sensitive', 'Combination', 'Oily', 'Dry', 'Normal']\n",
    "\n",
    "# Ensure all required columns exist before selection\n",
    "missing_columns = [col for col in notable_effects_columns + skin_type_columns if col not in df.columns]\n",
    "if missing_columns:\n",
    "    raise ValueError(f\"Error: The following columns are missing: {missing_columns}\")\n",
    "\n",
    "X[notable_effects_columns + skin_type_columns] = df[notable_effects_columns + skin_type_columns]\n",
    "\n",
    "# Standardize features (SVM works best with standardized data)\n",
    "scaler = StandardScaler()\n",
    "X = scaler.fit_transform(X)\n",
    "\n",
    "# Encoding product_type (Target Variable)\n",
    "if 'product_type' not in df.columns:\n",
    "    raise ValueError(\"Error: 'product_type' column is missing in the dataset!\")\n",
    "\n",
    "y = label_encoder.fit_transform(df['product_type'].astype(str))\n",
    "\n",
    "# Splitting dataset into training and testing sets\n",
    "X_train, X_test, y_train, y_test = train_test_split(X, y, test_size=0.2, random_state=42)\n",
    "\n",
    "# Training Support Vector Machine (SVM) with hyperparameter tuning\n",
    "param_grid = {'C': [0.1, 1, 10], 'kernel': ['linear', 'rbf', 'poly']}\n",
    "grid_search = GridSearchCV(SVC(), param_grid, cv=5, scoring='accuracy', n_jobs=-1)\n",
    "grid_search.fit(X_train, y_train)\n",
    "\n",
    "# Get best parameters from GridSearchCV\n",
    "best_params = grid_search.best_params_\n",
    "print(f\"✅ Best Parameters Found: {best_params}\")\n",
    "\n",
    "# Train final SVM model with best parameters\n",
    "svm_classifier = SVC(**best_params)\n",
    "svm_classifier.fit(X_train, y_train)\n",
    "\n",
    "# Making predictions on test set\n",
    "y_pred = svm_classifier.predict(X_test)\n",
    "\n",
    "# Evaluating the model\n",
    "accuracy = accuracy_score(y_test, y_pred)\n",
    "print(f'🎯 SVM Model Accuracy: {accuracy:.2f}')\n",
    "print(classification_report(y_test, y_pred))\n"
   ]
  }
 ],
 "metadata": {
  "kernelspec": {
   "display_name": "Python 3",
   "language": "python",
   "name": "python3"
  },
  "language_info": {
   "codemirror_mode": {
    "name": "ipython",
    "version": 3
   },
   "file_extension": ".py",
   "mimetype": "text/x-python",
   "name": "python",
   "nbconvert_exporter": "python",
   "pygments_lexer": "ipython3",
   "version": "3.12.9"
  }
 },
 "nbformat": 4,
 "nbformat_minor": 2
}
