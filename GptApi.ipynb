{
 "cells": [
  {
   "cell_type": "code",
   "execution_count": 4,
   "metadata": {},
   "outputs": [
    {
     "name": "stdout",
     "output_type": "stream",
     "text": [
      "=== Template 1 Response ===\n",
      " I would recommend a oil-free or water-based gel cleanser specifically formulated for oily and acne-prone skin. These types of cleansers are designed to effectively remove excess oil, dirt, and impurities from the skin without clogging pores or causing further breakouts. They often contain ingredients like salicylic acid or benzoyl peroxide, which can help to target acne-causing bacteria and reduce inflammation.\n",
      "\n",
      "Additionally, gel cleansers have a lightweight and refreshing texture that won't leave behind a greasy residue on the skin, making them ideal for those with oily skin. Using a gel cleanser consistently can help to control excess oil production, prevent future breakouts, and promote clearer, healthier skin overall.\n",
      "\n",
      "=== Template 2 Response ===\n",
      " For someone with oily skin looking for anti-acne products within a price range of around 150 SAR, I would recommend a cleanser as the first step in their skincare routine. \n",
      "\n",
      "I would specifically recommend a cleanser that contains salicylic acid as the main ingredient. Salicylic acid is a beta hydroxy acid that can penetrate deep into the pores to help remove excess oil, dirt, and dead skin cells that can lead to acne breakouts. It also has anti-inflammatory properties that can help reduce redness and swelling associated with acne.\n",
      "\n",
      "A salicylic acid cleanser is ideal for oily skin types because it can help regulate sebum production and prevent clogged pores, which are common issues for those with oily skin. By using a salicylic acid cleanser regularly, the user can effectively cleanse their skin, prevent breakouts, and improve the overall appearance of their skin.\n",
      "\n",
      "In addition, salicylic acid is generally well-tolerated by most skin types, making it a safe and effective option for those with oily and acne-prone skin. \n",
      "\n",
      "Overall, a salicylic acid cleanser would be a great choice for someone with oily skin looking for anti-acne products within a budget-friendly price range. It can effectively target acne-causing factors, regulate oil production, and improve the overall health and appearance of the skin.\n"
     ]
    }
   ],
   "source": [
    "import os\n",
    "import pandas as pd\n",
    "from dotenv import load_dotenv\n",
    "\n",
    "from openai import OpenAI  # NEW import style for v1+\n",
    "\n",
    "load_dotenv()\n",
    "\n",
    "# Create OpenAI client with your key\n",
    "client = OpenAI(api_key=os.getenv(\"OPENAI_API_KEY\"))\n",
    "\n",
    "\n",
    "# Prompt Templates\n",
    "template_1 = \"\"\"\n",
    "You are a beauty advisor. Based on the user's skin type: {skin_type}, and desired effect: {notable_effect}, \n",
    "recommend a product type and explain why.\n",
    "\"\"\"\n",
    "\n",
    "template_2 = \"\"\"\n",
    "You are an expert skincare consultant. A user has a {skin_type} skin type and is looking for products with \n",
    "the following effect: {notable_effect}. Consider the price range around {price}, and explain in detail which \n",
    "product type you would recommend from the following options: {product_options}. Also explain how the product \n",
    "helps and why it suits the user's needs.\n",
    "\"\"\"\n",
    "\n",
    "# User Input\n",
    "skin_type = \"Oily\"\n",
    "notable_effect = \"Anti-acne\"\n",
    "price = \"150 SAR\"\n",
    "product_options = [\"Cleanser\", \"Serum\", \"Moisturizer\", \"Toner\"]\n",
    "\n",
    "# Format Prompts\n",
    "prompt_1 = template_1.format(skin_type=skin_type, notable_effect=notable_effect)\n",
    "prompt_2 = template_2.format(\n",
    "    skin_type=skin_type,\n",
    "    notable_effect=notable_effect,\n",
    "    price=price,\n",
    "    product_options=\", \".join(product_options)\n",
    ")\n",
    "\n",
    "# Ask GPT using the new client\n",
    "def ask_gpt(prompt):\n",
    "    response = client.chat.completions.create(\n",
    "        model=\"gpt-3.5-turbo\",  # or \"gpt-4\" if you have access\n",
    "        messages=[{\"role\": \"user\", \"content\": prompt}],\n",
    "        temperature=0.7\n",
    "    )\n",
    "    return response.choices[0].message.content\n",
    "\n",
    "# Get responses\n",
    "response_1 = ask_gpt(prompt_1)\n",
    "response_2 = ask_gpt(prompt_2)\n",
    "\n",
    "# Display results\n",
    "print(\"=== Template 1 Response ===\\n\", response_1)\n",
    "print(\"\\n=== Template 2 Response ===\\n\", response_2)\n"
   ]
  }
 ],
 "metadata": {
  "kernelspec": {
   "display_name": "Python 3",
   "language": "python",
   "name": "python3"
  },
  "language_info": {
   "codemirror_mode": {
    "name": "ipython",
    "version": 3
   },
   "file_extension": ".py",
   "mimetype": "text/x-python",
   "name": "python",
   "nbconvert_exporter": "python",
   "pygments_lexer": "ipython3",
   "version": "3.12.9"
  }
 },
 "nbformat": 4,
 "nbformat_minor": 2
}
