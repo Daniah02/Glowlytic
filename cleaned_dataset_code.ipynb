{
 "cells": [
  {
   "cell_type": "markdown",
   "metadata": {},
   "source": [
    "cleaned dataset without missing price values. however, it has drffirent columns that the og."
   ]
  },
  {
   "cell_type": "code",
   "execution_count": null,
   "metadata": {},
   "outputs": [],
   "source": [
    "import pandas as pd\n",
    "import numpy as np\n",
    "\n",
    "# Load the dataset\n",
    "file_path = \"Dataset/processed_file.csv\"  # Update path if needed\n",
    "df = pd.read_csv(file_path)\n",
    "\n",
    "### 1️⃣ Handle Outliers in 'price_SAR' ###\n",
    "# Define outlier threshold (we'll cap at the 95th percentile)\n",
    "upper_limit = df[\"price_SAR\"].quantile(0.95)\n",
    "\n",
    "# Cap values above the 95th percentile to the upper limit\n",
    "df[\"price_SAR\"] = np.where(df[\"price_SAR\"] > upper_limit, upper_limit, df[\"price_SAR\"])\n",
    "\n",
    "### 2️⃣ Handle Missing Values in 'price_SAR' ###\n",
    "# Fill missing values with the median price\n",
    "median_price = df[\"price_SAR\"].median()\n",
    "df[\"price_SAR\"].fillna(median_price, inplace=True)\n",
    "\n",
    "### 3️⃣ Format Categorical Columns for ML Training ###\n",
    "\n",
    "# Convert 'product_type' from string lists to multiple binary columns\n",
    "df[\"product_type\"] = df[\"product_type\"].str.replace(\"[\", \"\").str.replace(\"]\", \"\").str.replace(\"'\", \"\")\n",
    "df = df.join(df[\"product_type\"].str.get_dummies(sep=\", \"))\n",
    "\n",
    "# Convert 'notable_effects' from string lists to multiple binary columns\n",
    "df[\"notable_effects\"] = df[\"notable_effects\"].str.replace(\"[\", \"\").str.replace(\"]\", \"\").str.replace(\"'\", \"\")\n",
    "df = df.join(df[\"notable_effects\"].str.get_dummies(sep=\", \"))\n",
    "\n",
    "# Convert 'skintype' from string lists to multiple binary columns\n",
    "df[\"skintype\"] = df[\"skintype\"].str.replace(\"[\", \"\").str.replace(\"]\", \"\").str.replace(\"'\", \"\")\n",
    "df = df.join(df[\"skintype\"].str.get_dummies(sep=\", \"))\n",
    "\n",
    "# Drop the original categorical columns after encoding\n",
    "df.drop(columns=[\"product_type\", \"notable_effects\", \"skintype\"], inplace=True)\n",
    "\n",
    "### 4️⃣ Save the Processed Dataset ###\n",
    "cleaned_file_path = \"Dataset/cleaned_dataset.csv\"  # Name of the new cleaned dataset\n",
    "df.to_csv(cleaned_file_path, index=False)\n",
    "\n",
    "print(f\"✅ Cleaned dataset saved as '{cleaned_file_path}'!\")\n"
   ]
  },
  {
   "cell_type": "markdown",
   "metadata": {},
   "source": [
    "second clean "
   ]
  },
  {
   "cell_type": "code",
   "execution_count": null,
   "metadata": {},
   "outputs": [],
   "source": [
    "import pandas as pd\n",
    "\n",
    "# Load dataset\n",
    "df = pd.read_csv(\"Dataset/cleaned_dataset00.csv\")\n",
    "\n",
    "# Create new merged column\n",
    "df[\"notable_effects_hydrating\"] = df[[\"notable_effects_hydrating\", \"notable_effects_moisturizing\"]].max(axis=1)\n",
    "\n",
    "\n",
    "# Save the cleaned dataset\n",
    "df.to_csv(\"Dataset/cleaned_dataset03.csv\", index=False)\n"
   ]
  }
 ],
 "metadata": {
  "kernelspec": {
   "display_name": "base",
   "language": "python",
   "name": "python3"
  },
  "language_info": {
   "codemirror_mode": {
    "name": "ipython",
    "version": 3
   },
   "file_extension": ".py",
   "mimetype": "text/x-python",
   "name": "python",
   "nbconvert_exporter": "python",
   "pygments_lexer": "ipython3",
   "version": "3.12.7"
  }
 },
 "nbformat": 4,
 "nbformat_minor": 2
}
