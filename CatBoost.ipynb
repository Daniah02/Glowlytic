{
 "cells": [
  {
   "cell_type": "code",
   "execution_count": null,
   "metadata": {},
   "outputs": [
    {
     "name": "stdout",
     "output_type": "stream",
     "text": [
      "0:\tlearn: 1.5621552\ttest: 1.5573345\tbest: 1.5573345 (0)\ttotal: 3.59ms\tremaining: 3.58s\n",
      "200:\tlearn: 0.8859542\ttest: 1.0636321\tbest: 1.0636321 (200)\ttotal: 589ms\tremaining: 2.34s\n",
      "400:\tlearn: 0.7577501\ttest: 1.0421580\tbest: 1.0418915 (390)\ttotal: 1.21s\tremaining: 1.8s\n",
      "Stopped by overfitting detector  (50 iterations wait)\n",
      "\n",
      "bestTest = 1.041891516\n",
      "bestIteration = 390\n",
      "\n",
      "Shrink model to first 391 iterations.\n",
      "CatBoost Accuracy: 0.60\n",
      "Classification Report:\n",
      "              precision    recall  f1-score   support\n",
      "\n",
      "           0       0.74      0.50      0.60        40\n",
      "           1       0.41      0.39      0.40        41\n",
      "           2       0.58      0.67      0.62        79\n",
      "           3       0.88      0.83      0.85        42\n",
      "           4       0.45      0.50      0.48        40\n",
      "\n",
      "    accuracy                           0.60       242\n",
      "   macro avg       0.61      0.58      0.59       242\n",
      "weighted avg       0.61      0.60      0.60       242\n",
      "\n"
     ]
    }
   ],
   "source": [
    "import pandas as pd\n",
    "from sklearn.model_selection import train_test_split\n",
    "from sklearn.preprocessing import LabelEncoder, MinMaxScaler\n",
    "from sklearn.metrics import accuracy_score, classification_report\n",
    "from catboost import CatBoostClassifier\n",
    "\n",
    "# Load dataset\n",
    "file_path = \"Dataset/processed_file.csv\"\n",
    "df = pd.read_csv(file_path)\n",
    "\n",
    "# Selecting relevant features\n",
    "X = df[['brand']].copy()\n",
    "\n",
    "# Encoding categorical variables\n",
    "X = pd.get_dummies(X, columns=['brand'])\n",
    "\n",
    "# Adding binary encoded columns for notable effects and skin type\n",
    "notable_effects_columns = [col for col in df.columns if col.startswith('notable_effects_')]\n",
    "skin_type_columns = ['Sensitive', 'Combination', 'Oily', 'Dry', 'Normal']\n",
    "X[notable_effects_columns + skin_type_columns] = df[notable_effects_columns + skin_type_columns]\n",
    "\n",
    "# Scaling numerical features using MinMaxScaler\n",
    "scaler = MinMaxScaler()\n",
    "X_scaled = scaler.fit_transform(X)\n",
    "\n",
    "# Encoding product_type\n",
    "y = LabelEncoder().fit_transform(df['product_type'].astype(str))\n",
    "\n",
    "# Splitting dataset into training and testing sets\n",
    "X_train, X_test, y_train, y_test = train_test_split(X_scaled, y, test_size=0.2, random_state=42)\n",
    "\n",
    "# Training CatBoost Classifier\n",
    "catboost_classifier = CatBoostClassifier(\n",
    "    iterations=2000,  # Increase iterations for better learning\n",
    "    depth=8,  # Try deeper trees\n",
    "    learning_rate=0.05,  # Lower learning rate with more iterations\n",
    "    l2_leaf_reg=3,  # Regularization to prevent overfitting\n",
    "    loss_function='MultiClass',\n",
    "    random_seed=42,\n",
    "    eval_metric=\"Accuracy\",\n",
    "    verbose=200\n",
    ")\n",
    "\n",
    "catboost_classifier.fit(X_train, y_train, eval_set=(X_test, y_test), early_stopping_rounds=50, use_best_model=True)\n",
    "\n",
    "# Making predictions\n",
    "y_pred = catboost_classifier.predict(X_test)\n",
    "\n",
    "# Evaluating the model\n",
    "accuracy = accuracy_score(y_test, y_pred)\n",
    "print(f'CatBoost Accuracy: {accuracy:.2f}')\n",
    "print(\"Classification Report:\")\n",
    "print(classification_report(y_test, y_pred))\n"
   ]
  }
 ],
 "metadata": {
  "kernelspec": {
   "display_name": "Python 3",
   "language": "python",
   "name": "python3"
  },
  "language_info": {
   "codemirror_mode": {
    "name": "ipython",
    "version": 3
   },
   "file_extension": ".py",
   "mimetype": "text/x-python",
   "name": "python",
   "nbconvert_exporter": "python",
   "pygments_lexer": "ipython3",
   "version": "3.12.9"
  }
 },
 "nbformat": 4,
 "nbformat_minor": 2
}
